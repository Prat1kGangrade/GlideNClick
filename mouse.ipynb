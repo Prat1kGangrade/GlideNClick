{
 "cells": [
  {
   "cell_type": "code",
   "execution_count": 1,
   "metadata": {},
   "outputs": [],
   "source": [
    "import cv2\n",
    "import numpy as np\n",
    "import mediapipe as mp\n",
    "import pyttsx3 as ts\n",
    "import pyautogui\n",
    "import math\n",
    "import time\n",
    "from IPython.display import clear_output\n",
    "import time"
   ]
  },
  {
   "cell_type": "code",
   "execution_count": 2,
   "metadata": {},
   "outputs": [],
   "source": [
    "mp_holistic = mp.solutions.holistic\n",
    "mp_drawing = mp.solutions.drawing_utils"
   ]
  },
  {
   "cell_type": "code",
   "execution_count": null,
   "metadata": {},
   "outputs": [],
   "source": []
  },
  {
   "cell_type": "code",
   "execution_count": 3,
   "metadata": {},
   "outputs": [],
   "source": [
    "def mediapipe_detection(image, model):\n",
    "    image = cv2.cvtColor(image, cv2.COLOR_BGR2RGB)\n",
    "    image = cv2.flip(image, 1)\n",
    "    image.flags.writeable = False\n",
    "    result = model.process(image)\n",
    "    image.flags.writeable = True\n",
    "    image = cv2.cvtColor(image, cv2.COLOR_RGB2BGR)\n",
    "    return image, result"
   ]
  },
  {
   "cell_type": "code",
   "execution_count": 4,
   "metadata": {},
   "outputs": [],
   "source": [
    "def draw_landmarks_left(image, results):\n",
    "    mp_drawing.draw_landmarks(image, results.left_hand_landmarks, mp_holistic.HAND_CONNECTIONS,\n",
    "                                mp_drawing.DrawingSpec(color=(121, 22, 76), thickness=2, circle_radius=4), #Circle\n",
    "                                mp_drawing.DrawingSpec(color=(121, 44, 250), thickness=2, circle_radius=2)) #Lines\n"
   ]
  },
  {
   "cell_type": "code",
   "execution_count": 5,
   "metadata": {},
   "outputs": [],
   "source": [
    "def draw_landmarks_right(image, results):\n",
    "    mp_drawing.draw_landmarks(image, results.right_hand_landmarks, mp_holistic.HAND_CONNECTIONS,\n",
    "                                mp_drawing.DrawingSpec(color=(0, 255, 0), thickness=2, circle_radius=4), #Circle \n",
    "                                mp_drawing.DrawingSpec(color=(0, 255, 255), thickness=2, circle_radius=1)) #Lines\n"
   ]
  },
  {
   "cell_type": "code",
   "execution_count": 6,
   "metadata": {},
   "outputs": [],
   "source": [
    "def extract_keypoints(results):\n",
    "    lh = np.array([[res.x, res.y, res.z] for res in results.left_hand_landmarks.landmark]).flatten() if results.left_hand_landmarks else np.zeros(21*3)\n",
    "    return lh"
   ]
  },
  {
   "cell_type": "code",
   "execution_count": 7,
   "metadata": {},
   "outputs": [],
   "source": [
    "def extract_thumb_keypoints(results):\n",
    "    keypoints = []\n",
    "    for data_point in results.left_hand_landmarks.landmark:\n",
    "        keypoints.extend([data_point.x, data_point.y, data_point.z])\n",
    "    return keypoints"
   ]
  },
  {
   "cell_type": "code",
   "execution_count": 8,
   "metadata": {},
   "outputs": [],
   "source": [
    "def left_move_mouse(landmarks, image, frame, is_clicked, prev_ind_finger_x, prev_ind_finger_y, initial_time):\n",
    "    clear_output(wait=True)\n",
    "    time_spent = (time.time()-initial_time)*1000\n",
    "    mouse_x, mouse_y = pyautogui.position()\n",
    "    screenH, screenW = 1080, 1980\n",
    "    frameH, frameW, _ = frame.shape\n",
    "    mid_finger_y, thumb_y = 0, 0\n",
    "    mid_finger_x, thumb_x = 0, 0\n",
    "    finger_x, finger_y = 0, 0\n",
    "    for id, landmark in enumerate(landmarks.landmark):\n",
    "        \"\"\"if id == 4:\n",
    "            thumb_x = int(landmark.x * frameW)\n",
    "            thumb_y = int(landmark.y * frameH)\n",
    "        if id == 12:\n",
    "            mid_finger_x = int(landmark.x * frameW)\n",
    "            mid_finger_y = int(landmark.y * frameH)\"\"\"\n",
    "        if id == 8:\n",
    "            finger_x = int(landmark.x * frameW)\n",
    "            finger_y = int(landmark.y * frameH)\n",
    "\n",
    "        dist_x = finger_x - prev_ind_finger_x\n",
    "        dist_y = finger_y - prev_ind_finger_y\n",
    "        dist = math.dist([prev_ind_finger_x, prev_ind_finger_y], [finger_x, finger_y])\n",
    "        speed = int((dist/time_spent)*10)\n",
    "\n",
    "    if(not speed): speed += 1 \n",
    "    print(speed)\n",
    "    # clear_output()\n",
    "    # cv2.circle(image, (thumb_x, thumb_y), 10, (0, 255, 0), thickness = 2)\n",
    "    cv2.circle(image, (finger_x, finger_y), 10, (0, 34, 234), thickness = 2)\n",
    "    # cv2.circle(image, (mid_finger_x, mid_finger_y), 10, (0, 34, 234), thickness = 2)\n",
    "    if is_clicked :\n",
    "        x = mouse_x + (dist_x*speed)\n",
    "        y = mouse_y + (dist_y*speed)\n",
    "        if x < 2: x = 2\n",
    "        if y < 2: y = 2\n",
    "        if x > 1920: x = 1920\n",
    "        if y > 1075: y = 1075\n",
    "        pyautogui.moveTo(x, y)\n",
    "    \n",
    "    return finger_x, finger_y, time.time()"
   ]
  },
  {
   "cell_type": "code",
   "execution_count": 9,
   "metadata": {},
   "outputs": [],
   "source": [
    "def right_move_mouse(landmarks, image, frame):\n",
    "    clear_output(wait=True)\n",
    "    screenH, screenW = 1080, 1980\n",
    "    frameH, frameW, _ = frame.shape\n",
    "    ring_finger_y, mid_finger_y, thumb_y = 0, 0, 0\n",
    "    ring_finger_y, mid_finger_x, thumb_x = 0, 0, 0\n",
    "    for id, landmark in enumerate(landmarks.landmark):\n",
    "        if id == 4:\n",
    "            thumb_x = int(landmark.x * frameW)\n",
    "            thumb_y = int(landmark.y * frameH)\n",
    "        if id == 8:\n",
    "            ind_finger_x = int(landmark.x * frameW)\n",
    "            ind_finger_y = int(landmark.y * frameH)\n",
    "        if id == 12:\n",
    "            mid_finger_x = int(landmark.x * frameW)\n",
    "            mid_finger_y = int(landmark.y * frameH)\n",
    "        if id == 16:\n",
    "            ring_finger_x = int(landmark.x * frameW)\n",
    "            ring_finger_y = int(landmark.y * frameH)\n",
    "        \n",
    "\n",
    "    cv2.circle(image, (thumb_x, thumb_y), 10, (0, 255, 0), thickness = 2)\n",
    "    cv2.circle(image, (ind_finger_x, ind_finger_y), 10, (0, 34, 234), thickness = 2)\n",
    "\n",
    "    dist = math.dist([thumb_x, thumb_y], [ind_finger_x, ind_finger_y])\n",
    "    ring_click_dist = math.dist([thumb_x, thumb_y], [ring_finger_x, ring_finger_y])\n",
    "    click_dist = math.dist([thumb_x, thumb_y], [mid_finger_x, mid_finger_y])\n",
    "\n",
    "    mouse_x, mouse_y = pyautogui.position()\n",
    "\n",
    "    if ring_click_dist < 30:\n",
    "        pyautogui.rightClick(mouse_x, mouse_y)\n",
    "    if click_dist < 30:\n",
    "        pyautogui.click()\n",
    "\n",
    "    if dist < 80:\n",
    "        return True;\n",
    "\n",
    "\n",
    "\n",
    "    "
   ]
  },
  {
   "cell_type": "code",
   "execution_count": 10,
   "metadata": {},
   "outputs": [
    {
     "name": "stdout",
     "output_type": "stream",
     "text": [
      "1\n"
     ]
    }
   ],
   "source": [
    "#New detection variables\n",
    "\n",
    "screenH, screenW = 1080, 1980\n",
    "ind_finger_x, ind_finger_y = 0, 0\n",
    "thumb_x, thumb_y = 0, 0\n",
    "cap = cv2.VideoCapture(0)\n",
    "initial_time = time.time()\n",
    "# access mediapipe model\n",
    "with mp_holistic.Holistic(min_detection_confidence=0.5, min_tracking_confidence=0.5) as holistic:\n",
    "    try:\n",
    "        while cap.isOpened():\n",
    "\n",
    "            # read feed\n",
    "            \n",
    "            ret, frame = cap.read()\n",
    "\n",
    "            # make detection\n",
    "            image, results = mediapipe_detection(frame, holistic)\n",
    "            \n",
    "            left_landmarks = results.right_hand_landmarks\n",
    "            right_landmarks = results.left_hand_landmarks\n",
    "\n",
    "            is_clicked = False\n",
    "\n",
    "            if right_landmarks: \n",
    "                is_clicked =  right_move_mouse(right_landmarks, image, frame)\n",
    "\n",
    "            if left_landmarks: \n",
    "                ind_finger_x, ind_finger_y, initial_time = left_move_mouse(left_landmarks, image, frame, is_clicked, ind_finger_x, ind_finger_y, initial_time)\n",
    "\n",
    "            cv2.imshow('feed', image)\n",
    "\n",
    "            # break on condition\n",
    "            if cv2.waitKey(10) & 0xff == ord('q'):\n",
    "                break\n",
    "    finally: \n",
    "        cap.release()\n",
    "        cv2.destroyAllWindows()"
   ]
  },
  {
   "cell_type": "code",
   "execution_count": null,
   "metadata": {},
   "outputs": [],
   "source": []
  },
  {
   "cell_type": "code",
   "execution_count": null,
   "metadata": {},
   "outputs": [],
   "source": []
  }
 ],
 "metadata": {
  "kernelspec": {
   "display_name": "Python 3.10.2 64-bit",
   "language": "python",
   "name": "python3"
  },
  "language_info": {
   "codemirror_mode": {
    "name": "ipython",
    "version": 3
   },
   "file_extension": ".py",
   "mimetype": "text/x-python",
   "name": "python",
   "nbconvert_exporter": "python",
   "pygments_lexer": "ipython3",
   "version": "3.10.2"
  },
  "orig_nbformat": 4,
  "vscode": {
   "interpreter": {
    "hash": "865d8b2eb28e274047ba64063dfb6a2aabf0dfec4905d304d7a76618dae6fdd4"
   }
  }
 },
 "nbformat": 4,
 "nbformat_minor": 2
}
