{
 "cells": [
  {
   "cell_type": "code",
   "execution_count": 2,
   "metadata": {},
   "outputs": [],
   "source": [
    "import mediapipe as mp\n",
    "import os\n",
    "import cv2\n",
    "import numpy as np\n",
    "import math\n",
    "from IPython.display import clear_output\n",
    "import time\n",
    "from pynput.keyboard import Controller, Key"
   ]
  },
  {
   "cell_type": "code",
   "execution_count": 3,
   "metadata": {},
   "outputs": [],
   "source": [
    "mp_holistic = mp.solutions.holistic\n",
    "mp_drawing = mp.solutions.drawing_utils"
   ]
  },
  {
   "cell_type": "code",
   "execution_count": 4,
   "metadata": {},
   "outputs": [],
   "source": [
    "def mediapipe_detection(image, model):\n",
    "    image = cv2.cvtColor(image, cv2.COLOR_BGR2RGB)\n",
    "    image = cv2.flip(image, 1)\n",
    "    image.flags.writeable = False\n",
    "    result = model.process(image)\n",
    "    image.flags.writeable = True\n",
    "    image = cv2.cvtColor(image, cv2.COLOR_RGB2BGR)\n",
    "    return image, result"
   ]
  },
  {
   "cell_type": "code",
   "execution_count": 5,
   "metadata": {},
   "outputs": [],
   "source": [
    "def extract_keypoints(results):\n",
    "    lh = np.array([[res.x, res.y, res.z] for res in results.left_hand_landmarks.landmark]).flatten() if results.left_hand_landmarks else np.zeros(21*3)\n",
    "    return lh"
   ]
  },
  {
   "cell_type": "code",
   "execution_count": 6,
   "metadata": {},
   "outputs": [],
   "source": [
    "def extract_thumb_keypoints(results):\n",
    "    keypoints = []\n",
    "    for data_point in results.left_hand_landmarks.landmark:\n",
    "        keypoints.extend([data_point.x, data_point.y, data_point.z])\n",
    "    return keypoints"
   ]
  },
  {
   "cell_type": "code",
   "execution_count": 7,
   "metadata": {},
   "outputs": [],
   "source": [
    "def draw_landmarks_right(image, results):\n",
    "    mp_drawing.draw_landmarks(image, results.right_hand_landmarks, mp_holistic.HAND_CONNECTIONS,\n",
    "                                mp_drawing.DrawingSpec(color=(0, 255, 0), thickness=2, circle_radius=4), #Circle \n",
    "                                mp_drawing.DrawingSpec(color=(0, 255, 255), thickness=2, circle_radius=1)) #Lines"
   ]
  },
  {
   "cell_type": "code",
   "execution_count": 8,
   "metadata": {},
   "outputs": [],
   "source": [
    "def draw_landmarks_left(image, results):\n",
    "    mp_drawing.draw_landmarks(image, results.left_hand_landmarks, mp_holistic.HAND_CONNECTIONS,\n",
    "                                mp_drawing.DrawingSpec(color=(121, 22, 76), thickness=2, circle_radius=4), #Circle\n",
    "                                mp_drawing.DrawingSpec(color=(121, 44, 250), thickness=2, circle_radius=2)) #Lines"
   ]
  },
  {
   "cell_type": "code",
   "execution_count": 9,
   "metadata": {},
   "outputs": [],
   "source": [
    "class Button():\n",
    "    def __init__(self, txt, pos, size = 38):\n",
    "        self.size = size\n",
    "        self.pos = pos\n",
    "        self.text = txt\n",
    "\n",
    "        \n",
    "        "
   ]
  },
  {
   "cell_type": "code",
   "execution_count": 10,
   "metadata": {},
   "outputs": [],
   "source": [
    "def place_keys(img, btn, keys, i, j):   \n",
    "    for key in keys:\n",
    "        (img, key, [i, j])\n",
    "        i += 100\n",
    "    return img"
   ]
  },
  {
   "cell_type": "code",
   "execution_count": 11,
   "metadata": {},
   "outputs": [],
   "source": [
    "def click_btn(image, btn, il, text, key):\n",
    "    if abs(il[0]-btn.pos[0]) <= btn.size and abs(il[1]-btn.pos[1]) <= btn.size:\n",
    "        mask = image.copy()\n",
    "        cv2.circle(mask, btn.pos, btn.size, (255,255,255), thickness=-1)\n",
    "        image = cv2.addWeighted(mask, 1, image, 1 - 1, 0)\n",
    "        if btn.text == \"<-\":\n",
    "            if text != \"\":\n",
    "                text = text[:-1]\n",
    "                key.press(Key.backspace)\n",
    "        elif btn.text == \"_\":\n",
    "            text += \" \" \n",
    "            key.press(Key.space)\n",
    "        else:\n",
    "            text += btn.text\n",
    "            key.press(btn.text)\n",
    "    return image, text"
   ]
  },
  {
   "cell_type": "code",
   "execution_count": 12,
   "metadata": {},
   "outputs": [],
   "source": [
    "\n",
    "def activate_btn(image, btn, il, ml, text, key):\n",
    "    if abs(il[0]-btn.pos[0]) <= btn.size and abs(il[1]-btn.pos[1]) <= btn.size:\n",
    "        mask = image.copy()\n",
    "        cv2.circle(mask, btn.pos, btn.size, (255,255,255), thickness=-1)\n",
    "        image = cv2.addWeighted(mask, 0.5, image, 1 - 0.5, 0)\n",
    "        d = math.dist(il, ml)\n",
    "        if d < 50:\n",
    "            \n",
    "            image, text = click_btn(image, btn, il, text, key)\n",
    "            time.sleep(0.2)\n",
    "    return image, text\n",
    "                    "
   ]
  },
  {
   "cell_type": "code",
   "execution_count": 13,
   "metadata": {},
   "outputs": [
    {
     "name": "stdout",
     "output_type": "stream",
     "text": [
      "107.00467279516349\n",
      "107.00467279516349\n",
      "107.00467279516349\n",
      "107.00467279516349\n",
      "107.00467279516349\n",
      "107.00467279516349\n",
      "107.00467279516349\n",
      "107.00467279516349\n",
      "107.00467279516349\n",
      "107.00467279516349\n",
      "107.00467279516349\n",
      "107.00467279516349\n",
      "107.00467279516349\n",
      "107.00467279516349\n",
      "107.00467279516349\n",
      "107.00467279516349\n",
      "107.00467279516349\n",
      "107.00467279516349\n",
      "107.00467279516349\n",
      "107.00467279516349\n",
      "107.00467279516349\n",
      "107.00467279516349\n",
      "107.00467279516349\n",
      "107.00467279516349\n",
      "107.00467279516349\n",
      "107.00467279516349\n",
      "107.00467279516349\n",
      "107.00467279516349\n"
     ]
    }
   ],
   "source": [
    "cap = cv2.VideoCapture(0)\n",
    "\n",
    "keys = [['Q', 'W', 'E', 'R', 'T', 'Y', 'U', 'I', 'O', 'P'],\n",
    "        ['A', 'S', 'D', 'F', 'G', 'H', 'J', 'K', 'L'],\n",
    "        ['Z', 'X', 'C', 'V', 'B', 'N', 'M', '_', '<-']]\n",
    "\n",
    "final_text = \"\"\n",
    "keyboard = Controller()\n",
    "btnList = []\n",
    "\n",
    "y = 300\n",
    "\n",
    "for i in range(3):\n",
    "    x = 100\n",
    "    for key in keys[i]:\n",
    "        btnList.append(Button(key, (x, y)))\n",
    "        x += 100\n",
    "    y += 100\n",
    "\n",
    "\n",
    "    \n",
    "\n",
    "try:\n",
    "    with mp_holistic.Holistic(min_detection_confidence=0.5, min_tracking_confidence=0.5) as holistic:\n",
    "\n",
    "        while cap.isOpened():\n",
    "            ret, frame = cap.read()\n",
    "            clear_output(wait=True)\n",
    "            image = cv2.resize(frame,(1080, 784))\n",
    "            frameW, frameH = 1080, 784\n",
    "            # image = cv2.cvtColor(frame, cv2.COLOR_BGR2RGB)\n",
    "            image, results = mediapipe_detection(image, holistic)\n",
    "            left_landmarks = results.right_hand_landmarks\n",
    "            right_landmarks = results.left_hand_landmarks\n",
    "\n",
    "            for btn in btnList:\n",
    "                mask = image.copy()\n",
    "                cv2.circle(mask, btn.pos, btn.size, (0,0,0), thickness=-1)\n",
    "                image = cv2.addWeighted(mask, 0.8, image, 1 - 0.8, 0)\n",
    "                cv2.putText(image, btn.text, (btn.pos[0]-17, btn.pos[1]+19), cv2.FONT_HERSHEY_PLAIN, 3, (255, 255, 255), 2)\n",
    "\n",
    "            if left_landmarks:\n",
    "                tlx = int(left_landmarks.landmark[4].x*frameW)\n",
    "                tly = int(left_landmarks.landmark[4].y*frameH)\n",
    "                ilx = int(left_landmarks.landmark[8].x*frameW)\n",
    "                ily = int(left_landmarks.landmark[8].y*frameH)\n",
    "                cv2.circle(image, (ilx, ily), 8, (255, 0, 255), thickness=2)\n",
    "                cv2.circle(image, (tlx, tly), 8, (255, 0, 255), thickness=2)\n",
    "\n",
    "                for btn in btnList:\n",
    "                    image, text = activate_btn(image, btn, [ilx, ily], [tlx, tly], final_text, keyboard)\n",
    "                    final_text = text\n",
    "                    \n",
    "                    # if right_landmarks:\n",
    "                    #     irx = int(right_landmarks.landmark[4].x*frameW)\n",
    "                    #     iry = int(right_landmarks.landmark[4].y*frameH)\n",
    "                    #     mrx = int(right_landmarks.landmark[8].x*frameW)\n",
    "                    #     mry = int(right_landmarks.landmark[8].y*frameH)\n",
    "\n",
    "                    #     d = math.dist([irx, iry], [mrx, mry])\n",
    "                    #     print(d)\n",
    "                    #     if d < 40:\n",
    "                    #         image = click_btn(image, btn.size, i, 300, ilx, ily)\n",
    "                    #         image = click_btn(image, btn.size, i, 400, ilx, ily)\n",
    "                    #         image = click_btn(image, btn.size, i, 500, ilx, ily)\n",
    "            cv2.rectangle(image, (100, 100), (900, 200), (0, 0, 0), cv2.FILLED)\n",
    "            cv2.putText(image, final_text, (120, 150), cv2.FONT_HERSHEY_PLAIN, 5, (255, 255, 255), 5)\n",
    "                    \n",
    "\n",
    "            # draw_landmarks_left(image, results)\n",
    "            # draw_landmarks_right(image, results)\n",
    "            \n",
    "            # drawKey(frame,(255,255,255), (0,0,0),0.1, fontScale=0.5)\n",
    "            cv2.imshow(\"Hand Tracking\", image)\n",
    "\n",
    "            if cv2.waitKey(10) & 0xFF == ord('q'):\n",
    "                break\n",
    "finally:\n",
    "    cap.release()\n",
    "    cv2.destroyAllWindows()"
   ]
  },
  {
   "cell_type": "code",
   "execution_count": 14,
   "metadata": {},
   "outputs": [
    {
     "name": "stdout",
     "output_type": "stream",
     "text": [
      "100\n",
      "200\n",
      "300\n",
      "400\n",
      "500\n",
      "600\n",
      "700\n",
      "800\n",
      "900\n",
      "1000\n"
     ]
    }
   ],
   "source": [
    "for i in range(100, 1001, 100):\n",
    "    print(i)"
   ]
  },
  {
   "cell_type": "code",
   "execution_count": null,
   "metadata": {},
   "outputs": [],
   "source": []
  }
 ],
 "metadata": {
  "kernelspec": {
   "display_name": "Python 3",
   "language": "python",
   "name": "python3"
  },
  "language_info": {
   "codemirror_mode": {
    "name": "ipython",
    "version": 3
   },
   "file_extension": ".py",
   "mimetype": "text/x-python",
   "name": "python",
   "nbconvert_exporter": "python",
   "pygments_lexer": "ipython3",
   "version": "3.10.2"
  }
 },
 "nbformat": 4,
 "nbformat_minor": 2
}
